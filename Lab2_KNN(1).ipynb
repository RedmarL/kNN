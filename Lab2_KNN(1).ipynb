{
 "cells": [
  {
   "cell_type": "markdown",
   "source": [
    "s# Lab 2\n",
    "### Introduction to Machine Learning, 2021-2022 period 4\n",
    "\n",
    "In Lab2 you will get to know an easy but powerful Machine Learning method: the k-Nearest Neighbours algorithm (k-NN). We will use the method on a classification problem, a case of supervised learning. \n",
    "\n",
    "This assignment is to be done with a partner. \n",
    "\n",
    "**Total points: 10**\n",
    "\n",
    "**Deadline: 2022-05-20 17:00**\n",
    "\n",
    "**Write your names and student ids here before submission: Aniek Wevers(9767002) en Redmar Leeuwendal(9665951)"
   ],
   "metadata": {
    "collapsed": false,
    "pycharm": {
     "name": "#%% md\n"
    }
   }
  },
  {
   "cell_type": "markdown",
   "source": [
    "## 1 The data\n",
    "\n",
    "We look at data originally from an Australian bank. Based on some information of a customer, the bank has to decide whether this customer's application for a credit card will be approved or not.\n",
    "(The original data file can be found here: https://archive.ics.uci.edu/ml/datasets/Statlog+(Australian+Credit+Approval), but for convenience we have already provided two .txt files with this assignment.)\n",
    "The customer data of each customer is described by 14 variables. Four of these are categorical variables: they assign a label to each customer. These labels are represented by integers. (To protect the privacy of the customers, there is no information about the meaning of the variables and thus not about the meaning of the different labels.) Four other variables are binary (0 or 1). The other six variables are real numbers. Together they constitute the input: the vector *x*.\n",
    "Each customer also has their output variable *y*, which is 0 or 1. This indicates whether the customer's application (according to human experts) should be approved (*y=1*) or not (*y=0*).\n",
    "\n",
    "We want to write an algorithm for this task that learns from the expert decisions it has seen and is able to make its own decisions for new customers.\n",
    "\n",
    "## 2 The algorithm\n",
    "\n",
    "The Nearest Neighbour algorithm is based on a simple idea: we are going to base the decision for a new customer (assign credit card or not) on the decision for a customer in the training data (the historical data). We base it on the customer who is most similar to the new customer.\n",
    "To use this in an algorithm, we first need a measure which can be used to determine the similarity between two customers. We will use the *Euclidean* distance for this purpose.\n",
    "\n",
    "If we consider a customer to be a point in a 14-dimensional space (one dimension for each variable), we can calculate the Euclidean distance between two customers/points *A* and *B* with:\n",
    "\n",
    "$$\\sqrt{(A_1-B_1)^2+(A_2-B_2)^2+...+(A_{14}-B_{14})^2}$$\n",
    "\n",
    "with $A_1$ the first input variable of $A$, $A_2$ the second, etc.\n",
    "\n",
    "The algorithm has the following simple steps, with step 3 being an evaluation of how well the algorithm is doing:\n",
    "\n",
    "1. Read the training data from the file;\n",
    "2. For every customer $c_{test}$ in the test file: determine which customer $c_{train}$ in the training data has the smallest Euclidean distance to the test-customer $c_{test}$, and assign the decision corresponding to $c_{train}$ to $c_{test}$;\n",
    "3. Count the number of test-customers for which the decision made by the algorithm is the same as the decision made by human experts;\n",
    "\n",
    "Step 1 is already implemented below in the two classes **Data** and **Person**.\n",
    "Person is a class containing all customer information: the input vector *x* and the output *y*. The inputs are divided in three different arrays: *xCategorical*, *xBinary* and *xReal*; the output is *y*."
   ],
   "metadata": {
    "collapsed": false,
    "pycharm": {
     "name": "#%% md\n"
    }
   }
  },
  {
   "cell_type": "code",
   "execution_count": null,
   "outputs": [],
   "source": [
    "import math\n",
    "import numpy as num"
   ],
   "metadata": {
    "collapsed": false,
    "pycharm": {
     "name": "#%%\n"
    }
   }
  },
  {
   "cell_type": "code",
   "execution_count": null,
   "outputs": [],
   "source": [
    "class Person:\n",
    "  def __init__(self, line_text):\n",
    "    # integers\n",
    "    self.xCategorical = [None]*4\n",
    "    # integers\n",
    "    self.xBinary = [None]*4\n",
    "    # floats\n",
    "    self.xReal = [None]*6\n",
    "\n",
    "    # label (0 or 1)\n",
    "    self.y = None\n",
    "    # Initialize the features\n",
    "    self.fromString(line_text)\n",
    "\n",
    "  def fromString(self, line_text):\n",
    "     #VARIABLES\n",
    "    self.xBinary[0] = int(line_text[0])\n",
    "    self.xReal[0] = float(line_text[1])\n",
    "    self.xReal[1] = float(line_text[2])\n",
    "    self.xCategorical[0] = int(line_text[3])\n",
    "    self.xCategorical[1] = int(line_text[4])\n",
    "    self.xCategorical[2] = int(line_text[5])\n",
    "    self.xReal[2] = float(line_text[6])\n",
    "    self.xBinary[1] = int(line_text[7])\n",
    "    self.xBinary[2] = int(line_text[8])\n",
    "    self.xReal[3] = float(line_text[9])\n",
    "    self.xBinary[3] = int(line_text[10])\n",
    "    self.xCategorical[3] = int(line_text[11])\n",
    "    self.xReal[4] = float(line_text[12])\n",
    "    self.xReal[5] = float(line_text[13])\n",
    "\n",
    "  #CREDIT CARD YES OR NO (1/0)\n",
    "    self.y = int(line_text[14])\n",
    "\n",
    "  def __str__(self):\n",
    "    #VARIABLES\n",
    "    person_info = \"x = (\" + \\\n",
    "\t    str(self.xBinary[0]) + \"; \" + \\\n",
    "\t    str(self.xReal[0]) + \"; \" + \\\n",
    "\t    str(self.xReal[1]) + \"; \" + \\\n",
    "\t    str(self.xCategorical[0]) + \"; \" + \\\n",
    "\t    str(self.xCategorical[1]) + \"; \" + \\\n",
    "\t    str(self.xCategorical[2]) + \"; \" + \\\n",
    "\t    str(self.xReal[2]) + \"; \" + \\\n",
    "\t    str(self.xBinary[1]) + \"; \" + \\\n",
    "\t    str(self.xBinary[2]) + \"; \" + \\\n",
    "\t    str(self.xReal[3]) + \"; \" + \\\n",
    "\t    str(self.xBinary[3]) + \"; \" + \\\n",
    "\t    str(self.xCategorical[3]) + \"; \" + \\\n",
    "\t    str(self.xReal[4]) + \"; \" + \\\n",
    "\t    str(self.xReal[5]) + \\\n",
    "\t    \"); y = \" + str(self.y) #CREDIT CARD YES/NO (1/0)\n",
    "    return person_info"
   ],
   "metadata": {
    "collapsed": false,
    "pycharm": {
     "name": "#%%\n"
    }
   }
  },
  {
   "cell_type": "markdown",
   "source": [
    "The class Data contains a dataset in the format of *credit_train.txt* or *credit_test.txt* (training data and test data) and uses the Person class to represent the customers.  "
   ],
   "metadata": {
    "collapsed": false,
    "pycharm": {
     "name": "#%% md\n"
    }
   }
  },
  {
   "cell_type": "code",
   "execution_count": null,
   "outputs": [],
   "source": [
    "class Data():\n",
    "  def __init__(self, filename):\n",
    "    self.data = []\n",
    "    self.loadFile(filename)\n",
    "\n",
    "  def loadFile(self,filename):\n",
    "    with open(filename) as file:\n",
    "      lines = file.readlines()\n",
    "      for line in lines:\n",
    "        person = Person(line.split())\n",
    "        self.data.append(person)\n",
    "        \n",
    "  def printList(self):\n",
    "    for person in self.data:\n",
    "      print(person)"
   ],
   "metadata": {
    "collapsed": false,
    "pycharm": {
     "name": "#%%\n"
    }
   }
  },
  {
   "cell_type": "markdown",
   "source": [
    "### A note on classes\n",
    "\n",
    "You have not had the concept of Python classes yet in Computational Linguistics, so initially you might be confused by what is even written here. Python classes are similar to C# classes. In this case, the classes are just reading in the data and ordering it by way of named variables tied to the class name.\n",
    "\n",
    "Suppose you have an instance of the class `Person` called `john`. If you want to know the label for `john`, you call:\n",
    "\n",
    "`john.y`\n",
    "\n",
    "If you have loaded the training data as an instance of the class `Data` called `trainData`, you would access the data by calling:\n",
    "\n",
    "`trainData.data`\n",
    "\n",
    "The same goes for methods (such as the method `printList` in `Data`). The method `__str__` in `Person` is not meant to be called by the user using that name. Rather, it is the method that gets called automatically by Python when you run:\n",
    "\n",
    "`print(john)`\n",
    "\n",
    "(assuming `john` is an instance of `Person`)"
   ],
   "metadata": {
    "collapsed": false,
    "pycharm": {
     "name": "#%% md\n"
    }
   }
  },
  {
   "cell_type": "markdown",
   "source": [
    "If you run the code below (the first time you have to run the cells above as well), you can get an idea of what the data looks like."
   ],
   "metadata": {
    "collapsed": false,
    "pycharm": {
     "name": "#%% md\n"
    }
   }
  },
  {
   "cell_type": "code",
   "execution_count": null,
   "outputs": [],
   "source": [
    "\"\"\"\n",
    "Load the train data\n",
    "\"\"\"\n",
    "trainData = Data(\"credit_train.txt\")\n",
    "trainData.printList()"
   ],
   "metadata": {
    "collapsed": false,
    "pycharm": {
     "name": "#%%\n"
    }
   }
  },
  {
   "cell_type": "markdown",
   "source": [
    "Complete the implementation of the algorithm. \n",
    "Start with writing a function _computeDistance(person1, person2)_. "
   ],
   "metadata": {
    "collapsed": false,
    "pycharm": {
     "name": "#%% md\n"
    }
   }
  },
  {
   "cell_type": "code",
   "execution_count": null,
   "outputs": [],
   "source": [
    "def computeDistance(person1, person2): #we calculated the distance per type of variable (xBinary,xReal,xCategorical)\n",
    "    \"\"\"\n",
    "    This function calculates the distance between two persons from the dataset.\n",
    "    The datapoints used to describe each person differentiate on three \n",
    "    types of numbers. We cannot simply subtract the datapoints of one \n",
    "    person from the datapoints of another to calculate the distance between \n",
    "    different people. Instead, this function iterates over datapoints (from person1)\n",
    "    with the same type and subtracts the value of the same datapoint of person2.\n",
    "    Finally it adds all of these partial distances together to get the total distance \n",
    "    between person 1 and person 2.\n",
    "    \"\"\"\n",
    "    distancesq = 0\n",
    "    for i in range(len(person1.xBinary)):\n",
    "        distancesq += ((person1.xBinary[i] - person2.xBinary[i])**2)\n",
    "    for i in range(len(person1.xReal)):\n",
    "        distancesq += ((person1.xReal[i] - person2.xReal[i])**2)\n",
    "    for i in range(len(person1.xCategorical)):\n",
    "        distancesq += ((person1.xCategorical[i] - person2.xCategorical[i])**2)\n",
    "    distance = math.sqrt(distancesq)\n",
    "    return distance"
   ],
   "metadata": {
    "collapsed": false,
    "pycharm": {
     "name": "#%%\n"
    }
   }
  },
  {
   "cell_type": "markdown",
   "source": [
    "Load the test data as well. \n"
   ],
   "metadata": {
    "collapsed": false,
    "pycharm": {
     "name": "#%% md\n"
    }
   }
  },
  {
   "cell_type": "code",
   "execution_count": null,
   "outputs": [],
   "source": [
    "\"\"\"\n",
    "Load the test data\n",
    "\"\"\"\n",
    "testData = Data(\"credit_test.txt\")"
   ],
   "metadata": {
    "collapsed": false,
    "pycharm": {
     "name": "#%%\n"
    }
   }
  },
  {
   "cell_type": "markdown",
   "source": [
    "Write a function that, given a `Person`, predicts a decision (to assign the credit card or not), only based on the `Person` in the training data that is closest."
   ],
   "metadata": {
    "collapsed": false,
    "pycharm": {
     "name": "#%% md\n"
    }
   }
  },
  {
   "cell_type": "code",
   "execution_count": null,
   "outputs": [],
   "source": [
    "def giveCredit(person, trainData):\n",
    "    \"\"\"\n",
    "    Predicts if a person may recieve a credit card or not based on its closest \n",
    "    neighbour from the dataset. To do this, the function compiles a sorted \n",
    "    list, consisting of the distance between person1 and all other persons in the database.\n",
    "    The y-label (credit) of the most nearby person is then set as the y-label of person1.\n",
    "    \"\"\"\n",
    "    d = []\n",
    "    for i in range(len(trainData.data)):\n",
    "        distance = computeDistance(person, trainData.data[i])\n",
    "        d.append( (trainData.data[i].y,distance) )\n",
    "    d = sorted(d, key = lambda i:i[1])\n",
    "    closest_person = d[0]\n",
    "    label_of_closest_person = closest_person[0]\n",
    "\n",
    "    credit  = label_of_closest_person\n",
    "    return bool(credit)"
   ],
   "metadata": {
    "collapsed": false,
    "pycharm": {
     "name": "#%%\n"
    }
   }
  },
  {
   "cell_type": "code",
   "execution_count": null,
   "outputs": [],
   "source": [
    "giveCredit(testData.data[0], trainData)"
   ],
   "metadata": {
    "collapsed": false,
    "pycharm": {
     "name": "#%%\n"
    }
   }
  },
  {
   "cell_type": "markdown",
   "source": [
    "Now write a function that determines the percentage of the test data that is wrongly classified. (Make sure that in all cases, you use the *y* from the test data only to check whether the classification of the algorithm was wrong or correct):"
   ],
   "metadata": {
    "collapsed": false,
    "pycharm": {
     "name": "#%% md\n"
    }
   }
  },
  {
   "cell_type": "code",
   "execution_count": null,
   "outputs": [],
   "source": [
    "def GetErrorPercentage(trainData, testData):\n",
    "    \"\"\"\n",
    "    Finds the percentage of the test data that is wrongly classified \n",
    "    based on the values of the train data. To do this, the function iterates over the test data\n",
    "    and increases the amount of falsely classified datapoints each time \n",
    "    the given credit in the test data does not match with the value giveCredit returns.\n",
    "    This is used to calculate the percent of wrongly classified data.\n",
    "    \"\"\"\n",
    "    total = len(testData.data)\n",
    "    false = 0\n",
    "    for i in range(total):\n",
    "        credit = giveCredit(testData.data[i], trainData)\n",
    "        if credit != bool(testData.data[i].y):\n",
    "            false += 1\n",
    "    percent = false/total*100\n",
    "    return percent\n"
   ],
   "metadata": {
    "collapsed": false,
    "pycharm": {
     "name": "#%%\n"
    }
   }
  },
  {
   "cell_type": "code",
   "execution_count": null,
   "outputs": [],
   "source": [
    "from sklearn.metrics import confusion_matrix\n",
    "preds = [giveCredit(testData.data[i], trainData) for i in range(len(testData.data))]\n",
    "labels = [testData.data[i].y for i in range(len(testData.data))]\n",
    "confusion_matrix(labels, preds)\n",
    "\n"
   ],
   "metadata": {
    "collapsed": false,
    "pycharm": {
     "name": "#%%\n"
    }
   }
  },
  {
   "cell_type": "markdown",
   "source": [
    "What percentage is wrongly classified?"
   ],
   "metadata": {
    "collapsed": false,
    "pycharm": {
     "name": "#%% md\n"
    }
   }
  },
  {
   "cell_type": "code",
   "execution_count": null,
   "outputs": [],
   "source": [
    "\"\"\"\n",
    "Prints the percentage of wrongly classified data.\n",
    "\"\"\"\n",
    "print(GetErrorPercentage(trainData, testData))"
   ],
   "metadata": {
    "collapsed": false,
    "pycharm": {
     "name": "#%%\n"
    }
   }
  },
  {
   "cell_type": "markdown",
   "source": [
    "## 2 Normalising the data\n",
    "In our training data, some of the variables have very large values (up to thousands), and others have very small ones \n",
    "(like the binary variables). When you interpret the data as a set of points, this makes the training data very 'stretched' in some directions and compressed in other directions. This way, the variables with large values will dominate in the decision, whereas the smaller variables will hardly play a part. This is undesirable, because if a variable is represented in large numbers, it does not mean the variable is more important than other variables. \n",
    "\n",
    "This is why we are going to standardize or normalise the data: we divide all *real* variables by a number, such that the difference between the minimum and the maximum is 1. This way the real variables have the same scale as the binary variables (we leave the categorical variables for now). \n",
    "We can do this by calculating the minimum $min_i$ and maximum $max_i$ for each variable $i$, and in the formula for the Euclidean distance, for each real valued variable *i*, we replace\n",
    "\n",
    "$$ ... + (A_i - B_i)^2 + ... $$\n",
    "\n",
    "with\n",
    "\n",
    "$$  ... +\\left(\\frac{A_i - B_i}{max_i - min_i}\\right)^2 + ...$$\n",
    "\n",
    "\n",
    "Write a function that determines the minimum and maximum for each real valued variable."
   ],
   "metadata": {
    "collapsed": false,
    "pycharm": {
     "name": "#%% md\n"
    }
   }
  },
  {
   "cell_type": "code",
   "execution_count": null,
   "outputs": [],
   "source": [
    "def getRealBounds(data):\n",
    "    \"\"\"\n",
    "    Determines the minimun and maximum for each real valued variable from the data.\n",
    "    To do this, the function will create a temporary list to store all values of the\n",
    "    datapoints. Next it will find the highest value and store this in another list \n",
    "    called \"max\". It will do this for the lowest value aswell and store this in a list\n",
    "    called \"min\". \n",
    "\n",
    "\n",
    "    Then the function will zip these two lists together into a list called bounds\n",
    "    The function will do this for each \"person\" in the data set.\n",
    "    \"\"\"\n",
    "    min, max = [], []\n",
    "    for i in range(len(data.data[0].xReal)):\n",
    "        temporary = []\n",
    "        for j in range(len(data.data)):\n",
    "            temporary.append(data.data[j].xReal[i])\n",
    "        max.append(max(temporary))\n",
    "        min.append(min(temporary))\n",
    "        bounds = list(zip(min,max))\n",
    "    return bounds\n"
   ],
   "metadata": {
    "collapsed": false,
    "pycharm": {
     "name": "#%%\n"
    }
   }
  },
  {
   "cell_type": "code",
   "execution_count": null,
   "outputs": [],
   "source": [
    "getRealBounds(trainData)"
   ],
   "metadata": {
    "collapsed": false,
    "pycharm": {
     "name": "#%%\n"
    }
   }
  },
  {
   "cell_type": "raw",
   "source": [
    "    Now write a new distance function _computeDistance2_ that scales the real valued variables before the distance is calculated."
   ],
   "metadata": {
    "collapsed": false,
    "pycharm": {
     "name": "#%% raw\n"
    }
   }
  },
  {
   "cell_type": "code",
   "execution_count": null,
   "outputs": [],
   "source": [
    "def computeDistance2(person1, person2,getRealBounds):\n",
    "    \"\"\"\n",
    "    This function calculates the distance between two people from the dataset.\n",
    "    Different from the original computeDistance function, computeDistance2 \n",
    "    calculates the distance using scaled values regarding the datapoints \n",
    "    made out of real numbers.\n",
    "    \"\"\"\n",
    "    distancesq = 0\n",
    "    for i in range(len(person1.xBinary)):\n",
    "        distancesq += ((person1.xBinary[i] - person2.xBinary[i])**2)\n",
    "    for i in range(len(person1.xReal)):\n",
    "        distancesq += (((person1.xReal[i] - person2.xReal[i])/(getRealBounds[i][1]-getRealBounds[i][0]))**2)\n",
    "    for i in range(len(person1.xCategorical)):\n",
    "        distancesq += ((person1.xCategorical[i] - person2.xCategorical[i]) ** 2)\n",
    "    distance = math.sqrt(distancesq)\n",
    "    return distance"
   ],
   "metadata": {
    "collapsed": false,
    "pycharm": {
     "name": "#%%\n"
    }
   }
  },
  {
   "cell_type": "markdown",
   "source": [
    "What percentage of the test data is wrongly classified using this distance function?"
   ],
   "metadata": {
    "collapsed": false,
    "pycharm": {
     "name": "#%% md\n"
    }
   }
  },
  {
   "cell_type": "code",
   "execution_count": null,
   "outputs": [],
   "source": [
    "\n",
    "def giveCredit2(person, trainData, getRealBounds):\n",
    "    \"\"\"\n",
    "    The function giveCredit2 predicts if a person may receive a credit card or not based on its closest \n",
    "    neighbour from the dataset. The function percentage2 finds the percentage of the \n",
    "    test data that is wrongly classified, based on the values of the train data. Different \n",
    "    from the original giveCredit- and percentage function, giveCredit2 and percentage2 \n",
    "    do this by using scaled values regarding the datapoints made out of real numbers.\n",
    "    \"\"\"\n",
    "    d = []\n",
    "    for i in range(len(trainData.data)):\n",
    "        distance = computeDistance2(person, trainData.data[i],getRealBounds)\n",
    "        d.append( (trainData.data[i].y,distance) )\n",
    "    d = sorted(d, key = lambda i:i[1])\n",
    "    closest_person = d[0]\n",
    "    label_of_closest_person = closest_person[0]\n",
    "\n",
    "    credit  = label_of_closest_person\n",
    "    return bool(credit)\n",
    "\n",
    "def GetErrorPercentage2(trainData, testData):\n",
    "    \"\"\" Same as GetErrorPercentage but it uses giveCredit2\"\"\"\n",
    "    bounds = getRealBounds(trainData)\n",
    "    total = len(testData.data)\n",
    "    false = 0\n",
    "    for i in range(total):\n",
    "        credit = giveCredit2(testData.data[i], trainData, bounds)\n",
    "        if credit != bool(testData.data[i].y):\n",
    "            false += 1\n",
    "    percent = false/total*100\n",
    "    return percent\n"
   ],
   "metadata": {
    "collapsed": false,
    "pycharm": {
     "name": "#%%\n"
    }
   }
  },
  {
   "cell_type": "code",
   "execution_count": null,
   "outputs": [],
   "source": [
    "print(GetErrorPercentage2(trainData,testData))"
   ],
   "metadata": {
    "collapsed": false,
    "pycharm": {
     "name": "#%%\n"
    }
   }
  },
  {
   "cell_type": "markdown",
   "source": [
    "For the categorical variables, the distance function now makes a different mistake. It assumes that points with labels 1 and 2 in a certain categorical variable are very similar but a label 14 in that variable is totally different. However, these numbers are only dummy-values that represent certain labels. For two customers, we can only say whether they are in the same category or not. The data does not say anything about the grades of similarity between categories. \n",
    "\n",
    "Write a third distance function _computeDistance3_ that acts the same on binary and real values as _computeDistance2_, but simply uses 0 or 1 for categorical variables instead of $...+(A_i-B_i)^2+...$. That is, it should use $0$ if $A_i = B_i$, and $1$ otherwise."
   ],
   "metadata": {
    "collapsed": false,
    "pycharm": {
     "name": "#%% md\n"
    }
   }
  },
  {
   "cell_type": "code",
   "execution_count": null,
   "outputs": [],
   "source": [
    "\n",
    "def computeDistance3(person1, person2,getRealBounds):\n",
    "    \"\"\"\n",
    "    This function calculates the distance between two persons from the dataset.\n",
    "    Different from the original computeDistance2 function, computeDistance3 \n",
    "    calculates the distance using scaled values regarding the datapoints \n",
    "    made out of catagorical variables. To do this, the function assigns a 0 or 1\n",
    "    when it has been checked if two people from the data set are from the same\n",
    "    category or not.\n",
    "    \"\"\"\n",
    "    distancesq = 0\n",
    "    for i in range(len(person1.xBinary)):\n",
    "        distancesq += ((person1.xBinary[i] - person2.xBinary[i])**2)\n",
    "    for i in range(len(person1.xReal)):\n",
    "        distancesq += (((person1.xReal[i] - person2.xReal[i])/(getRealBounds[i][1]-getRealBounds[i][0]))**2)\n",
    "    for i in range(len(person1.xCategorical)):\n",
    "        if person1.xCategorical[i] == person2.xCategorical[i]:\n",
    "            distancesq += 0\n",
    "        else:\n",
    "            distancesq += 1\n",
    "    distance = math.sqrt(distancesq)\n",
    "    return distance"
   ],
   "metadata": {
    "collapsed": false,
    "pycharm": {
     "name": "#%%\n"
    }
   }
  },
  {
   "cell_type": "markdown",
   "source": [
    "Calculate the percentage of the test data that is wrongly classified if the algorithm uses _computeDistance3_."
   ],
   "metadata": {
    "collapsed": false,
    "pycharm": {
     "name": "#%% md\n"
    }
   }
  },
  {
   "cell_type": "code",
   "execution_count": null,
   "outputs": [],
   "source": [
    "\n",
    "def giveCredit3(person, trainData, getRealBounds):\n",
    "    \"\"\"\n",
    "    The function giveCredit3 predictis if a person may receive a credit card or not based on its closest \n",
    "    neighbour from the dataset. The function percentage3 finds the percentage of the \n",
    "    test data that is wrongly classified based on the values of the train data. Different from the original \n",
    "    giveCredit2- and percentage2 function, giveCredit3 and percentage3 do this \n",
    "    by using scaled values regarding the datapoints made out of catagorical variables.\n",
    "    \"\"\"\n",
    "    d = []\n",
    "    for i in range(len(trainData.data)):\n",
    "        distance = computeDistance3(person, trainData.data[i],getRealBounds)\n",
    "        d.append( (trainData.data[i].y,distance) )\n",
    "    d = sorted(d, key = lambda i:i[1])\n",
    "    closest_person = d[0]\n",
    "    label_of_closest_person = closest_person[0]\n",
    "\n",
    "    credit  = label_of_closest_person\n",
    "    return bool(credit)\n",
    "\n",
    "def GetErrorPercentage3(trainData, testData):\n",
    "    bounds = getRealBounds(trainData)\n",
    "    total = len(testData.data)\n",
    "    false = 0\n",
    "    for i in range(total):\n",
    "        credit = giveCredit3(testData.data[i], trainData, bounds)\n",
    "        if credit != bool(testData.data[i].y):\n",
    "            false += 1\n",
    "    percent = false/total*100\n",
    "    return percent"
   ],
   "metadata": {
    "collapsed": false,
    "pycharm": {
     "name": "#%%\n"
    }
   }
  },
  {
   "cell_type": "code",
   "execution_count": null,
   "outputs": [],
   "source": [
    "giveCredit3(testData.data[0], trainData, getRealBounds(trainData))"
   ],
   "metadata": {
    "collapsed": false,
    "pycharm": {
     "name": "#%%\n"
    }
   }
  },
  {
   "cell_type": "markdown",
   "source": [
    "## 3 From NN to k-NN\n",
    "The algorithm as described above is called the 1-Nearest Neighbour-algorithm. This is a special case of the *k*-Nearest Neighbours-algorithm. In the *kNN* algorithm,  we do not look at only 1 'neighbour', but the *k* points in the training data that are closest to the point we are classifying. Our new prediction is the decision that has a majority. Usually, odd numbers are used for *k*, so we do not have to worry about the case where there is an equal division. \n",
    "At *k=1* the boundary between the two areas where the algorithm approves/rejects is very uneven. By making *k* bigger the shape of the boundary is less determined by single points in the training data. This makes the boundary more smooth, which often leads to better predictions.\n",
    "\n",
    "Modify the classification function in such a way that it uses the k-NN algorithm. Make *k* an argument of the function. You can assume that $k \\in \\{1,3,5\\}$. Use the last distance function *computeDistance3* from above."
   ],
   "metadata": {
    "collapsed": false,
    "pycharm": {
     "name": "#%% md\n"
    }
   }
  },
  {
   "cell_type": "code",
   "execution_count": null,
   "outputs": [],
   "source": [
    "\n",
    "def giveCreditk(person, trainData, getRealBounds, k):\n",
    "    \"\"\"\n",
    "    Instead of only looking at the neighbour closest to the person we want to predict\n",
    "    the credit score of, we now want to look at multiple closest neighbours. \n",
    "    The function giveCreditk will firstly compile a sorted list with the distance between the person it \n",
    "    needs to predict the approval to receive credit for and all of the other people from the dataset. \n",
    "    Then the function will take the nearest k neighbours and compute which credit score is the most common. \n",
    "    This will be the credit score the function will assign.\n",
    "\n",
    "    The function percentagek finds the percentage of the test data that is wrongly classified based on the \n",
    "    values of the train data when looking at k closest neighbours of the point it will try to classify.\n",
    "    \"\"\"\n",
    "    d = []\n",
    "    label = []\n",
    "    for i in range(len(trainData.data)):\n",
    "        distance = computeDistance3(person, trainData.data[i],getRealBounds)\n",
    "        d.append( (trainData.data[i].y,distance) )\n",
    "    d = sorted(d, key = lambda i:i[1])\n",
    "    k_closest_person = d[0:k]\n",
    "    for c in k_closest_person:\n",
    "        label.append(c[0])\n",
    "    credit = (max(set(label), key = label.count)) #https://stackoverflow.com/questions/20038011/trying-to-find-majority-element-in-a-list\n",
    "    return bool(credit)\n",
    "\n",
    "def GetErrorPercentagek(trainData, testData, k):\n",
    "    \n",
    "    bounds = getRealBounds(trainData)\n",
    "    total = len(testData.data)\n",
    "    false = 0\n",
    "    for i in range(total):\n",
    "        credit = giveCreditk(testData.data[i], trainData, bounds, k)\n",
    "        if credit != bool(testData.data[i].y):\n",
    "            false += 1\n",
    "    percent = false/total*100\n",
    "    return percent"
   ],
   "metadata": {
    "collapsed": false,
    "pycharm": {
     "name": "#%%\n"
    }
   }
  },
  {
   "cell_type": "markdown",
   "source": [
    "What are the test results for the different values of *k*?             "
   ],
   "metadata": {
    "collapsed": false,
    "pycharm": {
     "name": "#%% md\n"
    }
   }
  },
  {
   "cell_type": "code",
   "execution_count": null,
   "outputs": [],
   "source": [
    "\"\"\"\n",
    "Calculates the percentage of the test data that is wrongly classified based on the \n",
    "values of the traindata with 1, 3 and 5 nearest neighours.\n",
    "\"\"\"\n",
    "k = 1\n",
    "while k < 6:\n",
    "    print(GetErrorPercentagek(trainData,testData,k))\n",
    "    k += 2"
   ],
   "metadata": {
    "collapsed": false,
    "pycharm": {
     "name": "#%%\n"
    }
   }
  },
  {
   "cell_type": "markdown",
   "source": [
    "**Note:** In a realistic situation we will not first try which value of *k* leads to the best results on the test data, but we will have to choose the value of *k* (or let the computer choose) **before** we see the test data. Usually we will do this on a separate dataset called the *development* dataset. This is an example of a general problem which we will encounter in all kinds of Machine Learning methods and on which we will pay a lot of attention in this course. \n",
    "\n",
    "## Congratulations! You have finished the required portion of the assignment.\n",
    "### If you have finished and want to challenge yourself a little further, you can attempt the following 2 extra questions."
   ],
   "metadata": {
    "collapsed": false,
    "pycharm": {
     "name": "#%% md\n"
    }
   }
  },
  {
   "cell_type": "markdown",
   "source": [
    "1) Try what happens for higher values of $k$. Discuss your results in a short paragraph."
   ],
   "metadata": {
    "collapsed": false,
    "pycharm": {
     "name": "#%% md\n"
    }
   }
  },
  {
   "cell_type": "code",
   "execution_count": null,
   "outputs": [],
   "source": [
    "\n",
    "k = 1\n",
    "while k < 100:\n",
    "    print(GetErrorPercentagek(trainData,testData,k))\n",
    "    k += 2"
   ],
   "metadata": {
    "collapsed": false,
    "pycharm": {
     "name": "#%%\n"
    }
   }
  },
  {
   "cell_type": "markdown",
   "source": [
    "2) Can you think of alternate distance metrics? One possible metric is *Manhattan distance*, also called *city block* distance, and related to *lasso*, a regression analysis method that you will see later in the course. \n",
    "\n",
    "$dist_{MH} = \\Sigma_{i=1}^{d} |A_i - B_i|$\n",
    "\n",
    "https://en.wikipedia.org/wiki/Taxicab_geometry\n",
    "\n",
    "Implement the manhattan distance metric. Is this a good metric for this problem? Discuss your results. "
   ],
   "metadata": {
    "collapsed": false,
    "pycharm": {
     "name": "#%% md\n"
    }
   }
  },
  {
   "cell_type": "code",
   "execution_count": null,
   "outputs": [],
   "source": [],
   "metadata": {
    "collapsed": false,
    "pycharm": {
     "name": "#%%\n"
    }
   }
  }
 ],
 "metadata": {
  "interpreter": {
   "hash": "8dc405b7ca7734eee61ce81a2054f0e68716467a6ca51d735c1940047324b7f9"
  },
  "kernelspec": {
   "display_name": "Python 3.9.7 ('base')",
   "language": "python",
   "name": "python3"
  },
  "language_info": {
   "codemirror_mode": {
    "name": "ipython",
    "version": 3
   },
   "file_extension": ".py",
   "mimetype": "text/x-python",
   "name": "python",
   "nbconvert_exporter": "python",
   "pygments_lexer": "ipython3",
   "version": "3.9.7"
  }
 },
 "nbformat": 4,
 "nbformat_minor": 4
}