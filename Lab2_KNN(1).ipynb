{
 "cells": [
  {
   "cell_type": "code",
   "execution_count": null,
   "metadata": {
    "collapsed": false,
    "pycharm": {
     "name": "#%%\n"
    }
   },
   "outputs": [],
   "source": [
    "import math\n",
    "import numpy as num"
   ]
  },
  {
   "cell_type": "code",
   "execution_count": null,
   "metadata": {
    "collapsed": false,
    "pycharm": {
     "name": "#%%\n"
    }
   },
   "outputs": [],
   "source": [
    "class Person:\n",
    "  def __init__(self, line_text):\n",
    "    # integers\n",
    "    self.xCategorical = [None]*4\n",
    "    # integers\n",
    "    self.xBinary = [None]*4\n",
    "    # floats\n",
    "    self.xReal = [None]*6\n",
    "\n",
    "    # label (0 or 1)\n",
    "    self.y = None\n",
    "    # Initialize the features\n",
    "    self.fromString(line_text)\n",
    "\n",
    "  def fromString(self, line_text):\n",
    "     #VARIABLES\n",
    "    self.xBinary[0] = int(line_text[0])\n",
    "    self.xReal[0] = float(line_text[1])\n",
    "    self.xReal[1] = float(line_text[2])\n",
    "    self.xCategorical[0] = int(line_text[3])\n",
    "    self.xCategorical[1] = int(line_text[4])\n",
    "    self.xCategorical[2] = int(line_text[5])\n",
    "    self.xReal[2] = float(line_text[6])\n",
    "    self.xBinary[1] = int(line_text[7])\n",
    "    self.xBinary[2] = int(line_text[8])\n",
    "    self.xReal[3] = float(line_text[9])\n",
    "    self.xBinary[3] = int(line_text[10])\n",
    "    self.xCategorical[3] = int(line_text[11])\n",
    "    self.xReal[4] = float(line_text[12])\n",
    "    self.xReal[5] = float(line_text[13])\n",
    "\n",
    "  #CREDIT CARD YES OR NO (1/0)\n",
    "    self.y = int(line_text[14])\n",
    "\n",
    "  def __str__(self):\n",
    "    #VARIABLES\n",
    "    person_info = \"x = (\" + \\\n",
    "\t    str(self.xBinary[0]) + \"; \" + \\\n",
    "\t    str(self.xReal[0]) + \"; \" + \\\n",
    "\t    str(self.xReal[1]) + \"; \" + \\\n",
    "\t    str(self.xCategorical[0]) + \"; \" + \\\n",
    "\t    str(self.xCategorical[1]) + \"; \" + \\\n",
    "\t    str(self.xCategorical[2]) + \"; \" + \\\n",
    "\t    str(self.xReal[2]) + \"; \" + \\\n",
    "\t    str(self.xBinary[1]) + \"; \" + \\\n",
    "\t    str(self.xBinary[2]) + \"; \" + \\\n",
    "\t    str(self.xReal[3]) + \"; \" + \\\n",
    "\t    str(self.xBinary[3]) + \"; \" + \\\n",
    "\t    str(self.xCategorical[3]) + \"; \" + \\\n",
    "\t    str(self.xReal[4]) + \"; \" + \\\n",
    "\t    str(self.xReal[5]) + \\\n",
    "\t    \"); y = \" + str(self.y) #CREDIT CARD YES/NO (1/0)\n",
    "    return person_info"
   ]
  },
  {
   "cell_type": "markdown",
   "metadata": {
    "collapsed": false,
    "pycharm": {
     "name": "#%% md\n"
    }
   },
   "source": [
    "The class Data contains a dataset in the format of *credit_train.txt* or *credit_test.txt* (training data and test data) and uses the Person class to represent the customers.  "
   ]
  },
  {
   "cell_type": "code",
   "execution_count": null,
   "metadata": {
    "collapsed": false,
    "pycharm": {
     "name": "#%%\n"
    }
   },
   "outputs": [],
   "source": [
    "class Data():\n",
    "  def __init__(self, filename):\n",
    "    self.data = []\n",
    "    self.loadFile(filename)\n",
    "\n",
    "  def loadFile(self,filename):\n",
    "    with open(filename) as file:\n",
    "      lines = file.readlines()\n",
    "      for line in lines:\n",
    "        person = Person(line.split())\n",
    "        self.data.append(person)\n",
    "        \n",
    "  def printList(self):\n",
    "    for person in self.data:\n",
    "      print(person)"
   ]
  },
  {
   "cell_type": "code",
   "execution_count": null,
   "metadata": {
    "collapsed": false,
    "pycharm": {
     "name": "#%%\n"
    }
   },
   "outputs": [],
   "source": [
    "\"\"\"\n",
    "Load the train data\n",
    "\"\"\"\n",
    "trainData = Data(\"credit_train.txt\")\n",
    "trainData.printList()"
   ]
  },
  {
   "cell_type": "code",
   "execution_count": null,
   "metadata": {
    "collapsed": false,
    "pycharm": {
     "name": "#%%\n"
    }
   },
   "outputs": [],
   "source": [
    "def computeDistance(person1, person2): #we calculated the distance per type of variable (xBinary,xReal,xCategorical)\n",
    "    \"\"\"\n",
    "    This function calculates the distance between two persons from the dataset.\n",
    "    The datapoints used to describe each person differentiate on three \n",
    "    types of numbers. We cannot simply subtract the datapoints of one \n",
    "    person from the datapoints of another to calculate the distance between \n",
    "    different people. Instead, this function iterates over datapoints (from person1)\n",
    "    with the same type and subtracts the value of the same datapoint of person2.\n",
    "    Finally it adds all of these partial distances together to get the total distance \n",
    "    between person 1 and person 2.\n",
    "    \"\"\"\n",
    "    distancesq = 0\n",
    "    for i in range(len(person1.xBinary)):\n",
    "        distancesq += ((person1.xBinary[i] - person2.xBinary[i])**2)\n",
    "    for i in range(len(person1.xReal)):\n",
    "        distancesq += ((person1.xReal[i] - person2.xReal[i])**2)\n",
    "    for i in range(len(person1.xCategorical)):\n",
    "        distancesq += ((person1.xCategorical[i] - person2.xCategorical[i])**2)\n",
    "    distance = math.sqrt(distancesq)\n",
    "    return distance"
   ]
  },
  {
   "cell_type": "code",
   "execution_count": null,
   "metadata": {
    "collapsed": false,
    "pycharm": {
     "name": "#%%\n"
    }
   },
   "outputs": [],
   "source": [
    "\"\"\"\n",
    "Load the test data\n",
    "\"\"\"\n",
    "testData = Data(\"credit_test.txt\")"
   ]
  },
  {
   "cell_type": "code",
   "execution_count": null,
   "metadata": {
    "collapsed": false,
    "pycharm": {
     "name": "#%%\n"
    }
   },
   "outputs": [],
   "source": [
    "def giveCredit(person, trainData):\n",
    "    \"\"\"\n",
    "    Predicts if a person may recieve a credit card or not based on its closest \n",
    "    neighbour from the dataset. To do this, the function compiles a sorted \n",
    "    list, consisting of the distance between person1 and all other persons in the database.\n",
    "    The y-label (credit) of the most nearby person is then set as the y-label of person1.\n",
    "    \"\"\"\n",
    "    d = []\n",
    "    for i in range(len(trainData.data)):\n",
    "        distance = computeDistance(person, trainData.data[i])\n",
    "        d.append( (trainData.data[i].y,distance) )\n",
    "    d = sorted(d, key = lambda i:i[1])\n",
    "    closest_person = d[0]\n",
    "    label_of_closest_person = closest_person[0]\n",
    "\n",
    "    credit  = label_of_closest_person\n",
    "    return bool(credit)"
   ]
  },
  {
   "cell_type": "code",
   "execution_count": null,
   "metadata": {
    "collapsed": false,
    "pycharm": {
     "name": "#%%\n"
    }
   },
   "outputs": [],
   "source": [
    "giveCredit(testData.data[0], trainData)"
   ]
  },
  {
   "cell_type": "code",
   "execution_count": null,
   "metadata": {
    "collapsed": false,
    "pycharm": {
     "name": "#%%\n"
    }
   },
   "outputs": [],
   "source": [
    "def GetErrorPercentage(trainData, testData):\n",
    "    \"\"\"\n",
    "    Finds the percentage of the test data that is wrongly classified \n",
    "    based on the values of the train data. To do this, the function iterates over the test data\n",
    "    and increases the amount of falsely classified datapoints each time \n",
    "    the given credit in the test data does not match with the value giveCredit returns.\n",
    "    This is used to calculate the percent of wrongly classified data.\n",
    "    \"\"\"\n",
    "    total = len(testData.data)\n",
    "    false = 0\n",
    "    for i in range(total):\n",
    "        credit = giveCredit(testData.data[i], trainData)\n",
    "        if credit != bool(testData.data[i].y):\n",
    "            false += 1\n",
    "    percent = false/total*100\n",
    "    return percent\n"
   ]
  },
  {
   "cell_type": "code",
   "execution_count": null,
   "metadata": {
    "collapsed": false,
    "pycharm": {
     "name": "#%%\n"
    }
   },
   "outputs": [],
   "source": [
    "from sklearn.metrics import confusion_matrix\n",
    "preds = [giveCredit(testData.data[i], trainData) for i in range(len(testData.data))]\n",
    "labels = [testData.data[i].y for i in range(len(testData.data))]\n",
    "confusion_matrix(labels, preds)\n",
    "\n"
   ]
  },
  {
   "cell_type": "code",
   "execution_count": null,
   "metadata": {
    "collapsed": false,
    "pycharm": {
     "name": "#%%\n"
    }
   },
   "outputs": [],
   "source": [
    "\"\"\"\n",
    "Prints the percentage of wrongly classified data.\n",
    "\"\"\"\n",
    "print(GetErrorPercentage(trainData, testData))"
   ]
  },
  {
   "cell_type": "code",
   "execution_count": null,
   "metadata": {
    "collapsed": false,
    "pycharm": {
     "name": "#%%\n"
    }
   },
   "outputs": [],
   "source": [
    "def getRealBounds(data):\n",
    "    \"\"\"\n",
    "    Determines the minimun and maximum for each real valued variable from the data.\n",
    "    To do this, the function will create a temporary list to store all values of the\n",
    "    datapoints. Next it will find the highest value and store this in another list \n",
    "    called \"max\". It will do this for the lowest value aswell and store this in a list\n",
    "    called \"min\". \n",
    "\n",
    "\n",
    "    Then the function will zip these two lists together into a list called bounds\n",
    "    The function will do this for each \"person\" in the data set.\n",
    "    \"\"\"\n",
    "    min, max = [], []\n",
    "    for i in range(len(data.data[0].xReal)):\n",
    "        temporary = []\n",
    "        for j in range(len(data.data)):\n",
    "            temporary.append(data.data[j].xReal[i])\n",
    "        max.append(max(temporary))\n",
    "        min.append(min(temporary))\n",
    "        bounds = list(zip(min,max))\n",
    "    return bounds\n"
   ]
  },
  {
   "cell_type": "code",
   "execution_count": null,
   "metadata": {
    "collapsed": false,
    "pycharm": {
     "name": "#%%\n"
    }
   },
   "outputs": [],
   "source": [
    "getRealBounds(trainData)"
   ]
  },
  {
   "cell_type": "code",
   "execution_count": null,
   "metadata": {
    "collapsed": false,
    "pycharm": {
     "name": "#%%\n"
    }
   },
   "outputs": [],
   "source": [
    "def computeDistance2(person1, person2,getRealBounds):\n",
    "    \"\"\"\n",
    "    This function calculates the distance between two people from the dataset.\n",
    "    Different from the original computeDistance function, computeDistance2 \n",
    "    calculates the distance using scaled values regarding the datapoints \n",
    "    made out of real numbers.\n",
    "    \"\"\"\n",
    "    distancesq = 0\n",
    "    for i in range(len(person1.xBinary)):\n",
    "        distancesq += ((person1.xBinary[i] - person2.xBinary[i])**2)\n",
    "    for i in range(len(person1.xReal)):\n",
    "        distancesq += (((person1.xReal[i] - person2.xReal[i])/(getRealBounds[i][1]-getRealBounds[i][0]))**2)\n",
    "    for i in range(len(person1.xCategorical)):\n",
    "        distancesq += ((person1.xCategorical[i] - person2.xCategorical[i]) ** 2)\n",
    "    distance = math.sqrt(distancesq)\n",
    "    return distance"
   ]
  },
  {
   "cell_type": "code",
   "execution_count": null,
   "metadata": {
    "collapsed": false,
    "pycharm": {
     "name": "#%%\n"
    }
   },
   "outputs": [],
   "source": [
    "\n",
    "def giveCredit2(person, trainData, getRealBounds):\n",
    "    \"\"\"\n",
    "    The function giveCredit2 predicts if a person may receive a credit card or not based on its closest \n",
    "    neighbour from the dataset. The function percentage2 finds the percentage of the \n",
    "    test data that is wrongly classified, based on the values of the train data. Different \n",
    "    from the original giveCredit- and percentage function, giveCredit2 and percentage2 \n",
    "    do this by using scaled values regarding the datapoints made out of real numbers.\n",
    "    \"\"\"\n",
    "    d = []\n",
    "    for i in range(len(trainData.data)):\n",
    "        distance = computeDistance2(person, trainData.data[i],getRealBounds)\n",
    "        d.append( (trainData.data[i].y,distance) )\n",
    "    d = sorted(d, key = lambda i:i[1])\n",
    "    closest_person = d[0]\n",
    "    label_of_closest_person = closest_person[0]\n",
    "\n",
    "    credit  = label_of_closest_person\n",
    "    return bool(credit)\n",
    "\n",
    "def GetErrorPercentage2(trainData, testData):\n",
    "    \"\"\" Same as GetErrorPercentage but it uses giveCredit2\"\"\"\n",
    "    bounds = getRealBounds(trainData)\n",
    "    total = len(testData.data)\n",
    "    false = 0\n",
    "    for i in range(total):\n",
    "        credit = giveCredit2(testData.data[i], trainData, bounds)\n",
    "        if credit != bool(testData.data[i].y):\n",
    "            false += 1\n",
    "    percent = false/total*100\n",
    "    return percent\n"
   ]
  },
  {
   "cell_type": "code",
   "execution_count": null,
   "metadata": {
    "collapsed": false,
    "pycharm": {
     "name": "#%%\n"
    }
   },
   "outputs": [],
   "source": [
    "print(GetErrorPercentage2(trainData,testData))"
   ]
  },
  {
   "cell_type": "code",
   "execution_count": null,
   "metadata": {
    "collapsed": false,
    "pycharm": {
     "name": "#%%\n"
    }
   },
   "outputs": [],
   "source": [
    "\n",
    "def computeDistance3(person1, person2,getRealBounds):\n",
    "    \"\"\"\n",
    "    This function calculates the distance between two persons from the dataset.\n",
    "    Different from the original computeDistance2 function, computeDistance3 \n",
    "    calculates the distance using scaled values regarding the datapoints \n",
    "    made out of catagorical variables. To do this, the function assigns a 0 or 1\n",
    "    when it has been checked if two people from the data set are from the same\n",
    "    category or not.\n",
    "    \"\"\"\n",
    "    distancesq = 0\n",
    "    for i in range(len(person1.xBinary)):\n",
    "        distancesq += ((person1.xBinary[i] - person2.xBinary[i])**2)\n",
    "    for i in range(len(person1.xReal)):\n",
    "        distancesq += (((person1.xReal[i] - person2.xReal[i])/(getRealBounds[i][1]-getRealBounds[i][0]))**2)\n",
    "    for i in range(len(person1.xCategorical)):\n",
    "        if person1.xCategorical[i] == person2.xCategorical[i]:\n",
    "            distancesq += 0\n",
    "        else:\n",
    "            distancesq += 1\n",
    "    distance = math.sqrt(distancesq)\n",
    "    return distance"
   ]
  },
  {
   "cell_type": "code",
   "execution_count": null,
   "metadata": {
    "collapsed": false,
    "pycharm": {
     "name": "#%%\n"
    }
   },
   "outputs": [],
   "source": [
    "\n",
    "def giveCredit3(person, trainData, getRealBounds):\n",
    "    \"\"\"\n",
    "    The function giveCredit3 predictis if a person may receive a credit card or not based on its closest \n",
    "    neighbour from the dataset. The function percentage3 finds the percentage of the \n",
    "    test data that is wrongly classified based on the values of the train data. Different from the original \n",
    "    giveCredit2- and percentage2 function, giveCredit3 and percentage3 do this \n",
    "    by using scaled values regarding the datapoints made out of catagorical variables.\n",
    "    \"\"\"\n",
    "    d = []\n",
    "    for i in range(len(trainData.data)):\n",
    "        distance = computeDistance3(person, trainData.data[i],getRealBounds)\n",
    "        d.append( (trainData.data[i].y,distance) )\n",
    "    d = sorted(d, key = lambda i:i[1])\n",
    "    closest_person = d[0]\n",
    "    label_of_closest_person = closest_person[0]\n",
    "\n",
    "    credit  = label_of_closest_person\n",
    "    return bool(credit)\n",
    "\n",
    "def GetErrorPercentage3(trainData, testData):\n",
    "    bounds = getRealBounds(trainData)\n",
    "    total = len(testData.data)\n",
    "    false = 0\n",
    "    for i in range(total):\n",
    "        credit = giveCredit3(testData.data[i], trainData, bounds)\n",
    "        if credit != bool(testData.data[i].y):\n",
    "            false += 1\n",
    "    percent = false/total*100\n",
    "    return percent"
   ]
  },
  {
   "cell_type": "code",
   "execution_count": null,
   "metadata": {
    "collapsed": false,
    "pycharm": {
     "name": "#%%\n"
    }
   },
   "outputs": [],
   "source": [
    "giveCredit3(testData.data[0], trainData, getRealBounds(trainData))"
   ]
  },
  {
   "cell_type": "code",
   "execution_count": null,
   "metadata": {
    "collapsed": false,
    "pycharm": {
     "name": "#%%\n"
    }
   },
   "outputs": [],
   "source": [
    "\n",
    "def giveCreditk(person, trainData, getRealBounds, k):\n",
    "    \"\"\"\n",
    "    Instead of only looking at the neighbour closest to the person we want to predict\n",
    "    the credit score of, we now want to look at multiple closest neighbours. \n",
    "    The function giveCreditk will firstly compile a sorted list with the distance between the person it \n",
    "    needs to predict the approval to receive credit for and all of the other people from the dataset. \n",
    "    Then the function will take the nearest k neighbours and compute which credit score is the most common. \n",
    "    This will be the credit score the function will assign.\n",
    "\n",
    "    The function percentagek finds the percentage of the test data that is wrongly classified based on the \n",
    "    values of the train data when looking at k closest neighbours of the point it will try to classify.\n",
    "    \"\"\"\n",
    "    d = []\n",
    "    label = []\n",
    "    for i in range(len(trainData.data)):\n",
    "        distance = computeDistance3(person, trainData.data[i],getRealBounds)\n",
    "        d.append( (trainData.data[i].y,distance) )\n",
    "    d = sorted(d, key = lambda i:i[1])\n",
    "    k_closest_person = d[0:k]\n",
    "    for c in k_closest_person:\n",
    "        label.append(c[0])\n",
    "    credit = (max(set(label), key = label.count)) #https://stackoverflow.com/questions/20038011/trying-to-find-majority-element-in-a-list\n",
    "    return bool(credit)\n",
    "\n",
    "def GetErrorPercentagek(trainData, testData, k):\n",
    "    \n",
    "    bounds = getRealBounds(trainData)\n",
    "    total = len(testData.data)\n",
    "    false = 0\n",
    "    for i in range(total):\n",
    "        credit = giveCreditk(testData.data[i], trainData, bounds, k)\n",
    "        if credit != bool(testData.data[i].y):\n",
    "            false += 1\n",
    "    percent = false/total*100\n",
    "    return percent"
   ]
  },
  {
   "cell_type": "code",
   "execution_count": null,
   "metadata": {
    "collapsed": false,
    "pycharm": {
     "name": "#%%\n"
    }
   },
   "outputs": [],
   "source": [
    "\"\"\"\n",
    "Calculates the percentage of the test data that is wrongly classified based on the \n",
    "values of the traindata with 1, 3 and 5 nearest neighours.\n",
    "\"\"\"\n",
    "k = 1\n",
    "while k < 6:\n",
    "    print(GetErrorPercentagek(trainData,testData,k))\n",
    "    k += 2"
   ]
  },
  {
   "cell_type": "code",
   "execution_count": null,
   "metadata": {
    "collapsed": false,
    "pycharm": {
     "name": "#%%\n"
    }
   },
   "outputs": [],
   "source": [
    "\n",
    "k = 1\n",
    "while k < 100:\n",
    "    print(GetErrorPercentagek(trainData,testData,k))\n",
    "    k += 2"
   ]
  }
 ],
 "metadata": {
  "interpreter": {
   "hash": "fb2d1fd8136ec3ce34cdb9c7edf8eddbb82778c3793d3b66cd8dc39059ff8dea"
  },
  "kernelspec": {
   "display_name": "Python 3.10.4 64-bit",
   "language": "python",
   "name": "python3"
  },
  "language_info": {
   "codemirror_mode": {
    "name": "ipython",
    "version": 3
   },
   "file_extension": ".py",
   "mimetype": "text/x-python",
   "name": "python",
   "nbconvert_exporter": "python",
   "pygments_lexer": "ipython3",
   "version": "3.10.4"
  }
 },
 "nbformat": 4,
 "nbformat_minor": 4
}
